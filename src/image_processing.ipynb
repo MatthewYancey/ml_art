{
  "nbformat": 4,
  "nbformat_minor": 0,
  "metadata": {
    "colab": {
      "name": "image_processing.ipynb",
      "provenance": [],
      "authorship_tag": "ABX9TyMVvRZ/GBMwTb2Y8WD16jly",
      "include_colab_link": true
    },
    "kernelspec": {
      "name": "python3",
      "display_name": "Python 3"
    },
    "language_info": {
      "name": "python"
    }
  },
  "cells": [
    {
      "cell_type": "markdown",
      "metadata": {
        "id": "view-in-github",
        "colab_type": "text"
      },
      "source": [
        "<a href=\"https://colab.research.google.com/github/MatthewYancey/ml_art/blob/main/src/image_processing.ipynb\" target=\"_parent\"><img src=\"https://colab.research.google.com/assets/colab-badge.svg\" alt=\"Open In Colab\"/></a>"
      ]
    },
    {
      "cell_type": "code",
      "metadata": {
        "colab": {
          "base_uri": "https://localhost:8080/"
        },
        "id": "RX_oZNKlyYfO",
        "outputId": "e66ed3e3-3e2b-4957-f389-c6def28c9e8a"
      },
      "source": [
        "import os\n",
        "import cv2 as cv\n",
        "import glob\n",
        "\n",
        "from google.colab.patches import cv2_imshow\n",
        "from google.colab import drive\n",
        "drive.mount('/content/gdrive')"
      ],
      "execution_count": 42,
      "outputs": [
        {
          "output_type": "stream",
          "text": [
            "Drive already mounted at /content/gdrive; to attempt to forcibly remount, call drive.mount(\"/content/gdrive\", force_remount=True).\n"
          ],
          "name": "stdout"
        }
      ]
    },
    {
      "cell_type": "code",
      "metadata": {
        "id": "DiQo1bCrzKxk"
      },
      "source": [
        "INPUT_FOLDER = '/content/gdrive/MyDrive/ml_art/data/abstract/*'\n",
        "OUTPUT_FOLDER = '/content/gdrive/MyDrive/ml_art/data/abstract_modified/'\n",
        "TARGET_SIZE = 1024\n",
        "STEP_SIZE = 512"
      ],
      "execution_count": 43,
      "outputs": []
    },
    {
      "cell_type": "code",
      "metadata": {
        "colab": {
          "base_uri": "https://localhost:8080/"
        },
        "id": "wYj6pMcAyjvK",
        "outputId": "ba63dfb8-b423-4f96-b809-efcb72a6a585"
      },
      "source": [
        "images = glob.glob(INPUT_FOLDER)\n",
        "print(f'Number of images: {len(images)}')"
      ],
      "execution_count": 44,
      "outputs": [
        {
          "output_type": "stream",
          "text": [
            "Number of images: 164\n"
          ],
          "name": "stdout"
        }
      ]
    },
    {
      "cell_type": "code",
      "metadata": {
        "id": "8-RcVW7D5CmV"
      },
      "source": [
        "image_count = 0\n",
        "# function for ratating and saving each version of the images\n",
        "def rotate_and_save(im):\n",
        "    global image_count\n",
        "    for i in range(4):\n",
        "        # first write\n",
        "        cv.imwrite(f'{OUTPUT_FOLDER}{image_count}.png', im)\n",
        "        image_count += 1\n",
        "        if i < 2:\n",
        "            im = cv.flip(im, 0) # flip horizontally\n",
        "            cv.imwrite(f'{OUTPUT_FOLDER}{image_count}.png', im)\n",
        "            image_count += 1\n",
        "            im = cv.flip(im, 0) # flip back\n",
        "            im = cv.flip(im, 1)\n",
        "            cv.imwrite(f'{OUTPUT_FOLDER}{image_count}.png', im)\n",
        "            image_count += 1\n",
        "            im = cv.flip(im, 1) # flip back\n",
        "        im = cv.rotate(im, cv.cv2.ROTATE_90_CLOCKWISE) # rotate"
      ],
      "execution_count": 45,
      "outputs": []
    },
    {
      "cell_type": "code",
      "metadata": {
        "colab": {
          "base_uri": "https://localhost:8080/",
          "height": 1000
        },
        "id": "HBps4QFZzJHo",
        "outputId": "03abf73e-cac9-409a-ad01-9ff85ba48e2c"
      },
      "source": [
        "for image in images:\n",
        "    im = cv.imread(image)\n",
        "    \n",
        "    # need to see if we need to crop or expand the image\n",
        "    if im.shape[0] >= TARGET_SIZE and im.shape[1] >= TARGET_SIZE:\n",
        "        print(f'Image name: {image}')\n",
        "\n",
        "        # cropping the image in patches\n",
        "        y = 0\n",
        "        while y + TARGET_SIZE <= im.shape[0]:\n",
        "            x = 0\n",
        "            while x + TARGET_SIZE <= im.shape[1]:\n",
        "                im_temp = im[y:y + TARGET_SIZE, x:x + TARGET_SIZE]\n",
        "                rotate_and_save(im_temp)\n",
        "                x += STEP_SIZE\n",
        "            y += STEP_SIZE\n",
        "    else:\n",
        "        print(f'Image skiped: {image}')"
      ],
      "execution_count": 46,
      "outputs": [
        {
          "output_type": "stream",
          "text": [
            "Image name: /content/gdrive/MyDrive/ml_art/data/abstract/1.png\n",
            "Image name: /content/gdrive/MyDrive/ml_art/data/abstract/2.png\n",
            "Image name: /content/gdrive/MyDrive/ml_art/data/abstract/4.png\n",
            "Image name: /content/gdrive/MyDrive/ml_art/data/abstract/8.png\n",
            "Image name: /content/gdrive/MyDrive/ml_art/data/abstract/9.png\n",
            "Image skiped: /content/gdrive/MyDrive/ml_art/data/abstract/12.png\n",
            "Image skiped: /content/gdrive/MyDrive/ml_art/data/abstract/16.png\n",
            "Image name: /content/gdrive/MyDrive/ml_art/data/abstract/29.png\n",
            "Image skiped: /content/gdrive/MyDrive/ml_art/data/abstract/45.png\n",
            "Image name: /content/gdrive/MyDrive/ml_art/data/abstract/49.png\n",
            "Image name: /content/gdrive/MyDrive/ml_art/data/abstract/59.png\n",
            "Image skiped: /content/gdrive/MyDrive/ml_art/data/abstract/68.png\n",
            "Image skiped: /content/gdrive/MyDrive/ml_art/data/abstract/82.png\n",
            "Image name: /content/gdrive/MyDrive/ml_art/data/abstract/109.png\n",
            "Image skiped: /content/gdrive/MyDrive/ml_art/data/abstract/122.png\n",
            "Image skiped: /content/gdrive/MyDrive/ml_art/data/abstract/127.png\n",
            "Image name: /content/gdrive/MyDrive/ml_art/data/abstract/130.png\n",
            "Image name: /content/gdrive/MyDrive/ml_art/data/abstract/149.png\n",
            "Image skiped: /content/gdrive/MyDrive/ml_art/data/abstract/160.png\n",
            "Image skiped: /content/gdrive/MyDrive/ml_art/data/abstract/163.png\n",
            "Image skiped: /content/gdrive/MyDrive/ml_art/data/abstract/170.png\n",
            "Image name: /content/gdrive/MyDrive/ml_art/data/abstract/186.png\n",
            "Image skiped: /content/gdrive/MyDrive/ml_art/data/abstract/192.png\n",
            "Image name: /content/gdrive/MyDrive/ml_art/data/abstract/193.png\n",
            "Image name: /content/gdrive/MyDrive/ml_art/data/abstract/195.png\n",
            "Image name: /content/gdrive/MyDrive/ml_art/data/abstract/205.png\n",
            "Image skiped: /content/gdrive/MyDrive/ml_art/data/abstract/215.png\n",
            "Image name: /content/gdrive/MyDrive/ml_art/data/abstract/220.png\n",
            "Image skiped: /content/gdrive/MyDrive/ml_art/data/abstract/242.png\n",
            "Image name: /content/gdrive/MyDrive/ml_art/data/abstract/244.png\n",
            "Image skiped: /content/gdrive/MyDrive/ml_art/data/abstract/248.png\n",
            "Image name: /content/gdrive/MyDrive/ml_art/data/abstract/252.png\n",
            "Image skiped: /content/gdrive/MyDrive/ml_art/data/abstract/266.png\n",
            "Image name: /content/gdrive/MyDrive/ml_art/data/abstract/275.png\n",
            "Image skiped: /content/gdrive/MyDrive/ml_art/data/abstract/281.png\n",
            "Image name: /content/gdrive/MyDrive/ml_art/data/abstract/288.png\n",
            "Image name: /content/gdrive/MyDrive/ml_art/data/abstract/289.png\n",
            "Image name: /content/gdrive/MyDrive/ml_art/data/abstract/292.png\n",
            "Image skiped: /content/gdrive/MyDrive/ml_art/data/abstract/305.png\n",
            "Image name: /content/gdrive/MyDrive/ml_art/data/abstract/316.png\n",
            "Image skiped: /content/gdrive/MyDrive/ml_art/data/abstract/321.png\n",
            "Image skiped: /content/gdrive/MyDrive/ml_art/data/abstract/322.png\n",
            "Image skiped: /content/gdrive/MyDrive/ml_art/data/abstract/330.png\n",
            "Image name: /content/gdrive/MyDrive/ml_art/data/abstract/336.png\n",
            "Image skiped: /content/gdrive/MyDrive/ml_art/data/abstract/339.png\n",
            "Image name: /content/gdrive/MyDrive/ml_art/data/abstract/343.png\n",
            "Image name: /content/gdrive/MyDrive/ml_art/data/abstract/348.png\n",
            "Image name: /content/gdrive/MyDrive/ml_art/data/abstract/349.png\n",
            "Image name: /content/gdrive/MyDrive/ml_art/data/abstract/354.png\n",
            "Image name: /content/gdrive/MyDrive/ml_art/data/abstract/360.png\n",
            "Image name: /content/gdrive/MyDrive/ml_art/data/abstract/362.png\n",
            "Image skiped: /content/gdrive/MyDrive/ml_art/data/abstract/366.png\n",
            "Image name: /content/gdrive/MyDrive/ml_art/data/abstract/368.png\n",
            "Image name: /content/gdrive/MyDrive/ml_art/data/abstract/370.png\n",
            "Image skiped: /content/gdrive/MyDrive/ml_art/data/abstract/378.png\n",
            "Image skiped: /content/gdrive/MyDrive/ml_art/data/abstract/381.png\n",
            "Image skiped: /content/gdrive/MyDrive/ml_art/data/abstract/383.png\n",
            "Image skiped: /content/gdrive/MyDrive/ml_art/data/abstract/387.png\n",
            "Image skiped: /content/gdrive/MyDrive/ml_art/data/abstract/435.png\n",
            "Image name: /content/gdrive/MyDrive/ml_art/data/abstract/456.png\n",
            "Image skiped: /content/gdrive/MyDrive/ml_art/data/abstract/501.png\n",
            "Image skiped: /content/gdrive/MyDrive/ml_art/data/abstract/526.png\n",
            "Image name: /content/gdrive/MyDrive/ml_art/data/abstract/570.png\n",
            "Image name: /content/gdrive/MyDrive/ml_art/data/abstract/584.png\n",
            "Image name: /content/gdrive/MyDrive/ml_art/data/abstract/596.png\n",
            "Image skiped: /content/gdrive/MyDrive/ml_art/data/abstract/624.png\n",
            "Image name: /content/gdrive/MyDrive/ml_art/data/abstract/665.png\n",
            "Image name: /content/gdrive/MyDrive/ml_art/data/abstract/693.png\n",
            "Image skiped: /content/gdrive/MyDrive/ml_art/data/abstract/716.png\n",
            "Image name: /content/gdrive/MyDrive/ml_art/data/abstract/725.png\n",
            "Image skiped: /content/gdrive/MyDrive/ml_art/data/abstract/736.png\n",
            "Image name: /content/gdrive/MyDrive/ml_art/data/abstract/749.png\n",
            "Image skiped: /content/gdrive/MyDrive/ml_art/data/abstract/906.png\n",
            "Image skiped: /content/gdrive/MyDrive/ml_art/data/abstract/921.png\n",
            "Image skiped: /content/gdrive/MyDrive/ml_art/data/abstract/927.png\n",
            "Image skiped: /content/gdrive/MyDrive/ml_art/data/abstract/965.png\n",
            "Image name: /content/gdrive/MyDrive/ml_art/data/abstract/966.png\n",
            "Image name: /content/gdrive/MyDrive/ml_art/data/abstract/1064.png\n",
            "Image skiped: /content/gdrive/MyDrive/ml_art/data/abstract/1079.png\n",
            "Image name: /content/gdrive/MyDrive/ml_art/data/abstract/1097.png\n",
            "Image name: /content/gdrive/MyDrive/ml_art/data/abstract/1106.png\n",
            "Image skiped: /content/gdrive/MyDrive/ml_art/data/abstract/1128.png\n",
            "Image skiped: /content/gdrive/MyDrive/ml_art/data/abstract/1129.png\n",
            "Image skiped: /content/gdrive/MyDrive/ml_art/data/abstract/1142.png\n",
            "Image name: /content/gdrive/MyDrive/ml_art/data/abstract/1242.png\n",
            "Image name: /content/gdrive/MyDrive/ml_art/data/abstract/1289.png\n",
            "Image name: /content/gdrive/MyDrive/ml_art/data/abstract/4d4c3ea8_.jpeg\n",
            "Image name: /content/gdrive/MyDrive/ml_art/data/abstract/pitroda-art-51.jpeg\n",
            "Image skiped: /content/gdrive/MyDrive/ml_art/data/abstract/e90fd852359e9fe63e0964a6d643149a.jpeg\n",
            "Image name: /content/gdrive/MyDrive/ml_art/data/abstract/f88765a3313bd91636e23f7967f2efbf.jpeg\n",
            "Image skiped: /content/gdrive/MyDrive/ml_art/data/abstract/grunge_paper_texture_by_kristianpravda_d4zzmm9-pre.jpeg\n",
            "Image name: /content/gdrive/MyDrive/ml_art/data/abstract/aF9o1-_Y9m7VtcoKBtKZOOeU.jpeg\n",
            "Image name: /content/gdrive/MyDrive/ml_art/data/abstract/10fe60e988dc65ce80b1be558da642d3.jpeg\n",
            "Image name: /content/gdrive/MyDrive/ml_art/data/abstract/cut70.jpeg\n",
            "Image skiped: /content/gdrive/MyDrive/ml_art/data/abstract/a50e9e_19cb932851ec4b63abfa608a3d30d083.jpeg\n",
            "Image name: /content/gdrive/MyDrive/ml_art/data/abstract/65109168-neutral-abstract-art-painting.jpeg\n",
            "Image skiped: /content/gdrive/MyDrive/ml_art/data/abstract/twilight-gold-neutral-abstract-art-by-linda-woods-linda-woods.jpeg\n",
            "Image skiped: /content/gdrive/MyDrive/ml_art/data/abstract/twilight-blue-art-by-linda-woods-linda-woods.jpeg\n",
            "Image skiped: /content/gdrive/MyDrive/ml_art/data/abstract/63509591025a576959f4d3a46eb7e768.jpeg\n",
            "Image skiped: /content/gdrive/MyDrive/ml_art/data/abstract/Screen Shot 2021-03-16 at 9.16.08 PM.png\n",
            "Image skiped: /content/gdrive/MyDrive/ml_art/data/abstract/7a93cd542a7a795ea80fe0f8ad344689.jpeg\n",
            "Image name: /content/gdrive/MyDrive/ml_art/data/abstract/27.jpeg\n",
            "Image name: /content/gdrive/MyDrive/ml_art/data/abstract/39.jpeg\n",
            "Image skiped: /content/gdrive/MyDrive/ml_art/data/abstract/40.jpeg\n",
            "Image skiped: /content/gdrive/MyDrive/ml_art/data/abstract/43.jpeg\n",
            "Image skiped: /content/gdrive/MyDrive/ml_art/data/abstract/50.jpeg\n",
            "Image skiped: /content/gdrive/MyDrive/ml_art/data/abstract/60.jpeg\n",
            "Image skiped: /content/gdrive/MyDrive/ml_art/data/abstract/71.jpeg\n",
            "Image skiped: /content/gdrive/MyDrive/ml_art/data/abstract/79.jpeg\n",
            "Image name: /content/gdrive/MyDrive/ml_art/data/abstract/81RZHE9JC2L._AC_SL1500_.jpg\n",
            "Image name: /content/gdrive/MyDrive/ml_art/data/abstract/91.jpeg\n",
            "Image skiped: /content/gdrive/MyDrive/ml_art/data/abstract/99.jpeg\n",
            "Image skiped: /content/gdrive/MyDrive/ml_art/data/abstract/113.jpeg\n",
            "Image name: /content/gdrive/MyDrive/ml_art/data/abstract/121.jpeg\n",
            "Image name: /content/gdrive/MyDrive/ml_art/data/abstract/129.jpeg\n",
            "Image skiped: /content/gdrive/MyDrive/ml_art/data/abstract/144.jpeg\n",
            "Image skiped: /content/gdrive/MyDrive/ml_art/data/abstract/152.jpeg\n",
            "Image skiped: /content/gdrive/MyDrive/ml_art/data/abstract/196.jpeg\n",
            "Image skiped: /content/gdrive/MyDrive/ml_art/data/abstract/208.jpeg\n",
            "Image name: /content/gdrive/MyDrive/ml_art/data/abstract/261.jpeg\n",
            "Image skiped: /content/gdrive/MyDrive/ml_art/data/abstract/262.jpeg\n",
            "Image skiped: /content/gdrive/MyDrive/ml_art/data/abstract/265.jpeg\n",
            "Image name: /content/gdrive/MyDrive/ml_art/data/abstract/270.jpeg\n",
            "Image skiped: /content/gdrive/MyDrive/ml_art/data/abstract/272.jpeg\n",
            "Image name: /content/gdrive/MyDrive/ml_art/data/abstract/274.jpeg\n",
            "Image skiped: /content/gdrive/MyDrive/ml_art/data/abstract/278.jpeg\n",
            "Image name: /content/gdrive/MyDrive/ml_art/data/abstract/299.jpeg\n",
            "Image skiped: /content/gdrive/MyDrive/ml_art/data/abstract/314.jpeg\n",
            "Image skiped: /content/gdrive/MyDrive/ml_art/data/abstract/328.jpeg\n",
            "Image name: /content/gdrive/MyDrive/ml_art/data/abstract/331.jpeg\n",
            "Image name: /content/gdrive/MyDrive/ml_art/data/abstract/345.jpeg\n",
            "Image skiped: /content/gdrive/MyDrive/ml_art/data/abstract/393.jpeg\n",
            "Image skiped: /content/gdrive/MyDrive/ml_art/data/abstract/441.jpeg\n",
            "Image skiped: /content/gdrive/MyDrive/ml_art/data/abstract/452.jpeg\n",
            "Image name: /content/gdrive/MyDrive/ml_art/data/abstract/505.jpeg\n",
            "Image skiped: /content/gdrive/MyDrive/ml_art/data/abstract/551.jpeg\n",
            "Image name: /content/gdrive/MyDrive/ml_art/data/abstract/686.jpeg\n",
            "Image skiped: /content/gdrive/MyDrive/ml_art/data/abstract/727.jpeg\n"
          ],
          "name": "stdout"
        },
        {
          "output_type": "error",
          "ename": "KeyboardInterrupt",
          "evalue": "ignored",
          "traceback": [
            "\u001b[0;31m---------------------------------------------------------------------------\u001b[0m",
            "\u001b[0;31mKeyboardInterrupt\u001b[0m                         Traceback (most recent call last)",
            "\u001b[0;32m<ipython-input-46-ff35a7de9a4e>\u001b[0m in \u001b[0;36m<module>\u001b[0;34m()\u001b[0m\n\u001b[1;32m      1\u001b[0m \u001b[0;32mfor\u001b[0m \u001b[0mimage\u001b[0m \u001b[0;32min\u001b[0m \u001b[0mimages\u001b[0m\u001b[0;34m:\u001b[0m\u001b[0;34m\u001b[0m\u001b[0;34m\u001b[0m\u001b[0m\n\u001b[0;32m----> 2\u001b[0;31m     \u001b[0mim\u001b[0m \u001b[0;34m=\u001b[0m \u001b[0mcv\u001b[0m\u001b[0;34m.\u001b[0m\u001b[0mimread\u001b[0m\u001b[0;34m(\u001b[0m\u001b[0mimage\u001b[0m\u001b[0;34m)\u001b[0m\u001b[0;34m\u001b[0m\u001b[0;34m\u001b[0m\u001b[0m\n\u001b[0m\u001b[1;32m      3\u001b[0m \u001b[0;34m\u001b[0m\u001b[0m\n\u001b[1;32m      4\u001b[0m     \u001b[0;31m# need to see if we need to crop or expand the image\u001b[0m\u001b[0;34m\u001b[0m\u001b[0;34m\u001b[0m\u001b[0;34m\u001b[0m\u001b[0m\n\u001b[1;32m      5\u001b[0m     \u001b[0;32mif\u001b[0m \u001b[0mim\u001b[0m\u001b[0;34m.\u001b[0m\u001b[0mshape\u001b[0m\u001b[0;34m[\u001b[0m\u001b[0;36m0\u001b[0m\u001b[0;34m]\u001b[0m \u001b[0;34m>=\u001b[0m \u001b[0mTARGET_SIZE\u001b[0m \u001b[0;32mand\u001b[0m \u001b[0mim\u001b[0m\u001b[0;34m.\u001b[0m\u001b[0mshape\u001b[0m\u001b[0;34m[\u001b[0m\u001b[0;36m1\u001b[0m\u001b[0;34m]\u001b[0m \u001b[0;34m>=\u001b[0m \u001b[0mTARGET_SIZE\u001b[0m\u001b[0;34m:\u001b[0m\u001b[0;34m\u001b[0m\u001b[0;34m\u001b[0m\u001b[0m\n",
            "\u001b[0;31mKeyboardInterrupt\u001b[0m: "
          ]
        }
      ]
    },
    {
      "cell_type": "code",
      "metadata": {
        "id": "DFEmaHy_9jH4"
      },
      "source": [
        ""
      ],
      "execution_count": null,
      "outputs": []
    }
  ]
}